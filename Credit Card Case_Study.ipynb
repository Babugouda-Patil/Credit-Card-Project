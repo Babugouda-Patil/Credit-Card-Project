{
 "cells": [
  {
   "cell_type": "code",
   "execution_count": 1,
   "metadata": {},
   "outputs": [],
   "source": [
    "import pandas as pd\n",
    "import numpy as np\n",
    "import matplotlib.pyplot as plt\n",
    "import datetime as dt\n",
    "import seaborn as sns\n",
    "import re\n",
    "\n",
    "# set the graphs to show in the jupyter notebook\n",
    "%matplotlib inline\n",
    "\n",
    "# set seabor graphs to a better style\n",
    "sns.set(style=\"ticks\")"
   ]
  },
  {
   "cell_type": "code",
   "execution_count": 2,
   "metadata": {},
   "outputs": [],
   "source": [
    "Customer=pd.read_excel('C:/Users/BP/Data Science/DS(Python)/3. Python Foundation Case Studies/Case Study 2 - Credit Card Case Study/Credit Card Data.xlsx')\n",
    "Spend=pd.read_excel('C:/Users/BP/Data Science/DS(Python)/3. Python Foundation Case Studies/Case Study 2 - Credit Card Case Study/Credit Card Data.xlsx',sheet_name=1)\n",
    "Repayment=pd.read_excel('C:/Users/BP/Data Science/DS(Python)/3. Python Foundation Case Studies/Case Study 2 - Credit Card Case Study/Credit Card Data.xlsx',sheet_name=2)"
   ]
  },
  {
   "cell_type": "code",
   "execution_count": 3,
   "metadata": {},
   "outputs": [],
   "source": [
    "Credit1=pd.merge(left=Customer,right=Spend,how='outer',left_on='Customer',right_on='Customer')\n",
    "Credit_Card=pd.merge(left=Credit1,right=Repayment,how='outer',left_on='Customer',right_on='Customer')"
   ]
  },
  {
   "cell_type": "code",
   "execution_count": 4,
   "metadata": {},
   "outputs": [],
   "source": [
    "Credit_Card.Age=round(Credit_Card.Age).astype('int64')"
   ]
  },
  {
   "cell_type": "code",
   "execution_count": 5,
   "metadata": {},
   "outputs": [
    {
     "data": {
      "text/plain": [
       "(37284, 15)"
      ]
     },
     "execution_count": 5,
     "metadata": {},
     "output_type": "execute_result"
    }
   ],
   "source": [
    "Credit_Card.shape"
   ]
  },
  {
   "cell_type": "markdown",
   "metadata": {},
   "source": [
    "### 1. In the above dataset,\n",
    "### a. In case age is less than 18, replace it with mean of age values"
   ]
  },
  {
   "cell_type": "code",
   "execution_count": 6,
   "metadata": {},
   "outputs": [
    {
     "name": "stderr",
     "output_type": "stream",
     "text": [
      "<ipython-input-6-e092d3d0b883>:1: SettingWithCopyWarning: \n",
      "A value is trying to be set on a copy of a slice from a DataFrame\n",
      "\n",
      "See the caveats in the documentation: https://pandas.pydata.org/pandas-docs/stable/user_guide/indexing.html#returning-a-view-versus-a-copy\n",
      "  Credit_Card.Age[Credit_Card.Age<18]=Credit_Card.Age.mean()\n"
     ]
    }
   ],
   "source": [
    "Credit_Card.Age[Credit_Card.Age<18]=Credit_Card.Age.mean()"
   ]
  },
  {
   "cell_type": "markdown",
   "metadata": {},
   "source": [
    "### b. In case spend amount is more than the limit, replace it with 50% of that customer’s limit.\n",
    "### (customer’s limit provided in acquisition table is the per transaction limit on his card)"
   ]
  },
  {
   "cell_type": "code",
   "execution_count": 7,
   "metadata": {},
   "outputs": [
    {
     "name": "stderr",
     "output_type": "stream",
     "text": [
      "<ipython-input-7-17aa77a19d39>:1: SettingWithCopyWarning: \n",
      "A value is trying to be set on a copy of a slice from a DataFrame\n",
      "\n",
      "See the caveats in the documentation: https://pandas.pydata.org/pandas-docs/stable/user_guide/indexing.html#returning-a-view-versus-a-copy\n",
      "  Credit_Card.Amount_x[Credit_Card.Amount_x>Credit_Card.Limit]=0.5*Customer.Limit\n"
     ]
    }
   ],
   "source": [
    "Credit_Card.Amount_x[Credit_Card.Amount_x>Credit_Card.Limit]=0.5*Customer.Limit"
   ]
  },
  {
   "cell_type": "markdown",
   "metadata": {},
   "source": [
    "### c. Incase the repayment amount is more than the limit, replace the repayment with the limit.\n"
   ]
  },
  {
   "cell_type": "code",
   "execution_count": 8,
   "metadata": {},
   "outputs": [
    {
     "name": "stderr",
     "output_type": "stream",
     "text": [
      "<ipython-input-8-8ed61fc1cafa>:1: SettingWithCopyWarning: \n",
      "A value is trying to be set on a copy of a slice from a DataFrame\n",
      "\n",
      "See the caveats in the documentation: https://pandas.pydata.org/pandas-docs/stable/user_guide/indexing.html#returning-a-view-versus-a-copy\n",
      "  Credit_Card.Amount_y[Credit_Card.Amount_y>Credit_Card.Limit]=Credit_Card.Limit\n"
     ]
    }
   ],
   "source": [
    "Credit_Card.Amount_y[Credit_Card.Amount_y>Credit_Card.Limit]=Credit_Card.Limit"
   ]
  },
  {
   "cell_type": "markdown",
   "metadata": {},
   "source": [
    "### 2. From the above dataset create the following summaries:\n",
    "### a. How many distinct customers exist?"
   ]
  },
  {
   "cell_type": "code",
   "execution_count": 9,
   "metadata": {},
   "outputs": [],
   "source": [
    "distinct_customers=Credit_Card.Customer.loc[-Credit_Card.Customer.duplicated()].count()"
   ]
  },
  {
   "cell_type": "code",
   "execution_count": 10,
   "metadata": {},
   "outputs": [
    {
     "data": {
      "text/plain": [
       "100"
      ]
     },
     "execution_count": 10,
     "metadata": {},
     "output_type": "execute_result"
    }
   ],
   "source": [
    "distinct_customers"
   ]
  },
  {
   "cell_type": "markdown",
   "metadata": {},
   "source": [
    "### 2b. How many distinct categories exist?"
   ]
  },
  {
   "cell_type": "code",
   "execution_count": 11,
   "metadata": {},
   "outputs": [
    {
     "name": "stdout",
     "output_type": "stream",
     "text": [
      "The distinct city are: 8\n",
      "The distinct Product are: 3\n",
      "The distinct Company are: 41\n",
      "The distinct Segment are: 5\n",
      "The distinct Type are: 15\n"
     ]
    }
   ],
   "source": [
    "City_dist=Credit_Card.City.loc[-Credit_Card.City.duplicated()].count()\n",
    "Product_dist=Credit_Card.Product.loc[-Credit_Card.Product.duplicated()].count()\n",
    "Company_dist=Credit_Card.Company.loc[-Credit_Card.Company.duplicated()].count()\n",
    "Segment_dist=Credit_Card.Segment.loc[-Credit_Card.Segment.duplicated()].count()\n",
    "Type_dist=Credit_Card.Type.loc[-Credit_Card.Type.duplicated()].count()\n",
    "print('The distinct city are:',City_dist)\n",
    "print('The distinct Product are:',Product_dist)\n",
    "print('The distinct Company are:',Company_dist)\n",
    "print('The distinct Segment are:',Segment_dist)\n",
    "print('The distinct Type are:',Type_dist)"
   ]
  },
  {
   "cell_type": "markdown",
   "metadata": {},
   "source": [
    "### 2c. What is the average monthly spend by customers?"
   ]
  },
  {
   "cell_type": "code",
   "execution_count": 12,
   "metadata": {},
   "outputs": [],
   "source": [
    "Credit_Card['Month_x_Month']=pd.to_datetime(Credit_Card.Month_x,format='%m').apply(lambda x: x.strftime('%m')).astype('int64')"
   ]
  },
  {
   "cell_type": "code",
   "execution_count": 13,
   "metadata": {},
   "outputs": [
    {
     "data": {
      "text/html": [
       "<div>\n",
       "<style scoped>\n",
       "    .dataframe tbody tr th:only-of-type {\n",
       "        vertical-align: middle;\n",
       "    }\n",
       "\n",
       "    .dataframe tbody tr th {\n",
       "        vertical-align: top;\n",
       "    }\n",
       "\n",
       "    .dataframe thead th {\n",
       "        text-align: right;\n",
       "    }\n",
       "</style>\n",
       "<table border=\"1\" class=\"dataframe\">\n",
       "  <thead>\n",
       "    <tr style=\"text-align: right;\">\n",
       "      <th></th>\n",
       "      <th>Customer</th>\n",
       "      <th>Month_x</th>\n",
       "      <th>Amount_x</th>\n",
       "    </tr>\n",
       "  </thead>\n",
       "  <tbody>\n",
       "    <tr>\n",
       "      <th>0</th>\n",
       "      <td>A1</td>\n",
       "      <td>2004-01-03</td>\n",
       "      <td>467747.601626</td>\n",
       "    </tr>\n",
       "    <tr>\n",
       "      <th>1</th>\n",
       "      <td>A1</td>\n",
       "      <td>2004-01-12</td>\n",
       "      <td>391609.094108</td>\n",
       "    </tr>\n",
       "    <tr>\n",
       "      <th>2</th>\n",
       "      <td>A1</td>\n",
       "      <td>2004-01-15</td>\n",
       "      <td>86878.954735</td>\n",
       "    </tr>\n",
       "    <tr>\n",
       "      <th>3</th>\n",
       "      <td>A1</td>\n",
       "      <td>2004-01-25</td>\n",
       "      <td>191132.253322</td>\n",
       "    </tr>\n",
       "    <tr>\n",
       "      <th>4</th>\n",
       "      <td>A1</td>\n",
       "      <td>2004-02-05</td>\n",
       "      <td>480587.006754</td>\n",
       "    </tr>\n",
       "    <tr>\n",
       "      <th>...</th>\n",
       "      <td>...</td>\n",
       "      <td>...</td>\n",
       "      <td>...</td>\n",
       "    </tr>\n",
       "    <tr>\n",
       "      <th>1252</th>\n",
       "      <td>A95</td>\n",
       "      <td>2004-01-15</td>\n",
       "      <td>281975.205712</td>\n",
       "    </tr>\n",
       "    <tr>\n",
       "      <th>1253</th>\n",
       "      <td>A96</td>\n",
       "      <td>2004-01-25</td>\n",
       "      <td>94369.178802</td>\n",
       "    </tr>\n",
       "    <tr>\n",
       "      <th>1254</th>\n",
       "      <td>A97</td>\n",
       "      <td>2004-01-12</td>\n",
       "      <td>NaN</td>\n",
       "    </tr>\n",
       "    <tr>\n",
       "      <th>1255</th>\n",
       "      <td>A98</td>\n",
       "      <td>2004-01-03</td>\n",
       "      <td>NaN</td>\n",
       "    </tr>\n",
       "    <tr>\n",
       "      <th>1256</th>\n",
       "      <td>A99</td>\n",
       "      <td>2004-01-15</td>\n",
       "      <td>NaN</td>\n",
       "    </tr>\n",
       "  </tbody>\n",
       "</table>\n",
       "<p>1257 rows × 3 columns</p>\n",
       "</div>"
      ],
      "text/plain": [
       "     Customer    Month_x       Amount_x\n",
       "0          A1 2004-01-03  467747.601626\n",
       "1          A1 2004-01-12  391609.094108\n",
       "2          A1 2004-01-15   86878.954735\n",
       "3          A1 2004-01-25  191132.253322\n",
       "4          A1 2004-02-05  480587.006754\n",
       "...       ...        ...            ...\n",
       "1252      A95 2004-01-15  281975.205712\n",
       "1253      A96 2004-01-25   94369.178802\n",
       "1254      A97 2004-01-12            NaN\n",
       "1255      A98 2004-01-03            NaN\n",
       "1256      A99 2004-01-15            NaN\n",
       "\n",
       "[1257 rows x 3 columns]"
      ]
     },
     "execution_count": 13,
     "metadata": {},
     "output_type": "execute_result"
    }
   ],
   "source": [
    "Credit_Card.groupby(['Customer','Month_x'])[['Amount_x']].mean().reset_index()"
   ]
  },
  {
   "cell_type": "markdown",
   "metadata": {},
   "source": [
    "### 2d. What is the average monthly repayment by customers?"
   ]
  },
  {
   "cell_type": "code",
   "execution_count": 14,
   "metadata": {},
   "outputs": [
    {
     "data": {
      "text/html": [
       "<div>\n",
       "<style scoped>\n",
       "    .dataframe tbody tr th:only-of-type {\n",
       "        vertical-align: middle;\n",
       "    }\n",
       "\n",
       "    .dataframe tbody tr th {\n",
       "        vertical-align: top;\n",
       "    }\n",
       "\n",
       "    .dataframe thead th {\n",
       "        text-align: right;\n",
       "    }\n",
       "</style>\n",
       "<table border=\"1\" class=\"dataframe\">\n",
       "  <thead>\n",
       "    <tr style=\"text-align: right;\">\n",
       "      <th></th>\n",
       "      <th>Customer</th>\n",
       "      <th>Month_y</th>\n",
       "      <th>Amount_y</th>\n",
       "    </tr>\n",
       "  </thead>\n",
       "  <tbody>\n",
       "    <tr>\n",
       "      <th>0</th>\n",
       "      <td>A1</td>\n",
       "      <td>2004-01-03</td>\n",
       "      <td>131778.688758</td>\n",
       "    </tr>\n",
       "    <tr>\n",
       "      <th>1</th>\n",
       "      <td>A1</td>\n",
       "      <td>2004-01-12</td>\n",
       "      <td>274665.145247</td>\n",
       "    </tr>\n",
       "    <tr>\n",
       "      <th>2</th>\n",
       "      <td>A1</td>\n",
       "      <td>2004-01-15</td>\n",
       "      <td>327829.902766</td>\n",
       "    </tr>\n",
       "    <tr>\n",
       "      <th>3</th>\n",
       "      <td>A1</td>\n",
       "      <td>2004-01-25</td>\n",
       "      <td>452865.826385</td>\n",
       "    </tr>\n",
       "    <tr>\n",
       "      <th>4</th>\n",
       "      <td>A1</td>\n",
       "      <td>2004-02-05</td>\n",
       "      <td>276490.143237</td>\n",
       "    </tr>\n",
       "    <tr>\n",
       "      <th>...</th>\n",
       "      <td>...</td>\n",
       "      <td>...</td>\n",
       "      <td>...</td>\n",
       "    </tr>\n",
       "    <tr>\n",
       "      <th>1276</th>\n",
       "      <td>A95</td>\n",
       "      <td>2004-01-15</td>\n",
       "      <td>381370.442582</td>\n",
       "    </tr>\n",
       "    <tr>\n",
       "      <th>1277</th>\n",
       "      <td>A96</td>\n",
       "      <td>2004-01-25</td>\n",
       "      <td>100000.000000</td>\n",
       "    </tr>\n",
       "    <tr>\n",
       "      <th>1278</th>\n",
       "      <td>A97</td>\n",
       "      <td>2004-01-12</td>\n",
       "      <td>10000.000000</td>\n",
       "    </tr>\n",
       "    <tr>\n",
       "      <th>1279</th>\n",
       "      <td>A98</td>\n",
       "      <td>2004-01-03</td>\n",
       "      <td>10001.000000</td>\n",
       "    </tr>\n",
       "    <tr>\n",
       "      <th>1280</th>\n",
       "      <td>A99</td>\n",
       "      <td>2004-01-15</td>\n",
       "      <td>10002.000000</td>\n",
       "    </tr>\n",
       "  </tbody>\n",
       "</table>\n",
       "<p>1281 rows × 3 columns</p>\n",
       "</div>"
      ],
      "text/plain": [
       "     Customer    Month_y       Amount_y\n",
       "0          A1 2004-01-03  131778.688758\n",
       "1          A1 2004-01-12  274665.145247\n",
       "2          A1 2004-01-15  327829.902766\n",
       "3          A1 2004-01-25  452865.826385\n",
       "4          A1 2004-02-05  276490.143237\n",
       "...       ...        ...            ...\n",
       "1276      A95 2004-01-15  381370.442582\n",
       "1277      A96 2004-01-25  100000.000000\n",
       "1278      A97 2004-01-12   10000.000000\n",
       "1279      A98 2004-01-03   10001.000000\n",
       "1280      A99 2004-01-15   10002.000000\n",
       "\n",
       "[1281 rows x 3 columns]"
      ]
     },
     "execution_count": 14,
     "metadata": {},
     "output_type": "execute_result"
    }
   ],
   "source": [
    "Credit_Card.groupby(['Customer','Month_y'])[['Amount_y']].mean().reset_index()"
   ]
  },
  {
   "cell_type": "markdown",
   "metadata": {},
   "source": [
    "### 2e. If the monthly rate of interest is 2.9%, what is the profit for the bank for each month?\n",
    "### (Profit is defined as interest earned on Monthly Profit. Monthly Profit = Monthly repayment\n",
    "### – Monthly spend. Interest is earned only on positive profits and not on negative amounts)"
   ]
  },
  {
   "cell_type": "code",
   "execution_count": 15,
   "metadata": {},
   "outputs": [],
   "source": [
    "Credit_Card['Profit']=Credit_Card.Amount_y-Credit_Card.Amount_x"
   ]
  },
  {
   "cell_type": "code",
   "execution_count": 16,
   "metadata": {},
   "outputs": [],
   "source": [
    "Credit_Card['pos_profit']= np.where(Credit_Card.Profit<0,0,Credit_Card.Profit)*0.029"
   ]
  },
  {
   "cell_type": "code",
   "execution_count": 17,
   "metadata": {},
   "outputs": [
    {
     "data": {
      "text/html": [
       "<div>\n",
       "<style scoped>\n",
       "    .dataframe tbody tr th:only-of-type {\n",
       "        vertical-align: middle;\n",
       "    }\n",
       "\n",
       "    .dataframe tbody tr th {\n",
       "        vertical-align: top;\n",
       "    }\n",
       "\n",
       "    .dataframe thead th {\n",
       "        text-align: right;\n",
       "    }\n",
       "</style>\n",
       "<table border=\"1\" class=\"dataframe\">\n",
       "  <thead>\n",
       "    <tr style=\"text-align: right;\">\n",
       "      <th></th>\n",
       "      <th>pos_profit</th>\n",
       "    </tr>\n",
       "    <tr>\n",
       "      <th>Month_x</th>\n",
       "      <th></th>\n",
       "    </tr>\n",
       "  </thead>\n",
       "  <tbody>\n",
       "    <tr>\n",
       "      <th>2004-01-03</th>\n",
       "      <td>1.811599e+06</td>\n",
       "    </tr>\n",
       "    <tr>\n",
       "      <th>2004-01-12</th>\n",
       "      <td>2.504053e+06</td>\n",
       "    </tr>\n",
       "    <tr>\n",
       "      <th>2004-01-15</th>\n",
       "      <td>2.798867e+06</td>\n",
       "    </tr>\n",
       "    <tr>\n",
       "      <th>2004-01-25</th>\n",
       "      <td>1.897987e+06</td>\n",
       "    </tr>\n",
       "    <tr>\n",
       "      <th>2004-02-05</th>\n",
       "      <td>1.013834e+06</td>\n",
       "    </tr>\n",
       "    <tr>\n",
       "      <th>...</th>\n",
       "      <td>...</td>\n",
       "    </tr>\n",
       "    <tr>\n",
       "      <th>2006-09-03</th>\n",
       "      <td>1.174161e+06</td>\n",
       "    </tr>\n",
       "    <tr>\n",
       "      <th>2006-10-03</th>\n",
       "      <td>1.084592e+06</td>\n",
       "    </tr>\n",
       "    <tr>\n",
       "      <th>2006-11-03</th>\n",
       "      <td>3.862930e+05</td>\n",
       "    </tr>\n",
       "    <tr>\n",
       "      <th>2006-11-21</th>\n",
       "      <td>5.019636e+05</td>\n",
       "    </tr>\n",
       "    <tr>\n",
       "      <th>2006-12-03</th>\n",
       "      <td>8.836954e+05</td>\n",
       "    </tr>\n",
       "  </tbody>\n",
       "</table>\n",
       "<p>74 rows × 1 columns</p>\n",
       "</div>"
      ],
      "text/plain": [
       "              pos_profit\n",
       "Month_x                 \n",
       "2004-01-03  1.811599e+06\n",
       "2004-01-12  2.504053e+06\n",
       "2004-01-15  2.798867e+06\n",
       "2004-01-25  1.897987e+06\n",
       "2004-02-05  1.013834e+06\n",
       "...                  ...\n",
       "2006-09-03  1.174161e+06\n",
       "2006-10-03  1.084592e+06\n",
       "2006-11-03  3.862930e+05\n",
       "2006-11-21  5.019636e+05\n",
       "2006-12-03  8.836954e+05\n",
       "\n",
       "[74 rows x 1 columns]"
      ]
     },
     "execution_count": 17,
     "metadata": {},
     "output_type": "execute_result"
    }
   ],
   "source": [
    "Credit_Card.groupby(['Month_x'])[['pos_profit']].sum()"
   ]
  },
  {
   "cell_type": "markdown",
   "metadata": {},
   "source": [
    "### 2f. What are the top 5 product types?"
   ]
  },
  {
   "cell_type": "code",
   "execution_count": 18,
   "metadata": {},
   "outputs": [
    {
     "data": {
      "text/html": [
       "<div>\n",
       "<style scoped>\n",
       "    .dataframe tbody tr th:only-of-type {\n",
       "        vertical-align: middle;\n",
       "    }\n",
       "\n",
       "    .dataframe tbody tr th {\n",
       "        vertical-align: top;\n",
       "    }\n",
       "\n",
       "    .dataframe thead th {\n",
       "        text-align: right;\n",
       "    }\n",
       "</style>\n",
       "<table border=\"1\" class=\"dataframe\">\n",
       "  <thead>\n",
       "    <tr style=\"text-align: right;\">\n",
       "      <th></th>\n",
       "      <th>Amount_x</th>\n",
       "    </tr>\n",
       "    <tr>\n",
       "      <th>Type</th>\n",
       "      <th></th>\n",
       "    </tr>\n",
       "  </thead>\n",
       "  <tbody>\n",
       "    <tr>\n",
       "      <th>CAMERA</th>\n",
       "      <td>7.400150e+08</td>\n",
       "    </tr>\n",
       "    <tr>\n",
       "      <th>PETRO</th>\n",
       "      <td>7.358022e+08</td>\n",
       "    </tr>\n",
       "    <tr>\n",
       "      <th>FOOD</th>\n",
       "      <td>6.006429e+08</td>\n",
       "    </tr>\n",
       "    <tr>\n",
       "      <th>AIR TICKET</th>\n",
       "      <td>5.964113e+08</td>\n",
       "    </tr>\n",
       "    <tr>\n",
       "      <th>TRAIN TICKET</th>\n",
       "      <td>4.766013e+08</td>\n",
       "    </tr>\n",
       "  </tbody>\n",
       "</table>\n",
       "</div>"
      ],
      "text/plain": [
       "                  Amount_x\n",
       "Type                      \n",
       "CAMERA        7.400150e+08\n",
       "PETRO         7.358022e+08\n",
       "FOOD          6.006429e+08\n",
       "AIR TICKET    5.964113e+08\n",
       "TRAIN TICKET  4.766013e+08"
      ]
     },
     "execution_count": 18,
     "metadata": {},
     "output_type": "execute_result"
    }
   ],
   "source": [
    "Credit_Card.groupby(['Type'])[['Amount_x']].sum().sort_values(by='Amount_x',ascending=False).head(5)"
   ]
  },
  {
   "cell_type": "markdown",
   "metadata": {},
   "source": [
    "### 2g. Which city is having maximum spend?"
   ]
  },
  {
   "cell_type": "code",
   "execution_count": 19,
   "metadata": {},
   "outputs": [
    {
     "data": {
      "text/html": [
       "<div>\n",
       "<style scoped>\n",
       "    .dataframe tbody tr th:only-of-type {\n",
       "        vertical-align: middle;\n",
       "    }\n",
       "\n",
       "    .dataframe tbody tr th {\n",
       "        vertical-align: top;\n",
       "    }\n",
       "\n",
       "    .dataframe thead th {\n",
       "        text-align: right;\n",
       "    }\n",
       "</style>\n",
       "<table border=\"1\" class=\"dataframe\">\n",
       "  <thead>\n",
       "    <tr style=\"text-align: right;\">\n",
       "      <th></th>\n",
       "      <th>Amount_x</th>\n",
       "    </tr>\n",
       "    <tr>\n",
       "      <th>City</th>\n",
       "      <th></th>\n",
       "    </tr>\n",
       "  </thead>\n",
       "  <tbody>\n",
       "    <tr>\n",
       "      <th>COCHIN</th>\n",
       "      <td>1.186547e+09</td>\n",
       "    </tr>\n",
       "  </tbody>\n",
       "</table>\n",
       "</div>"
      ],
      "text/plain": [
       "            Amount_x\n",
       "City                \n",
       "COCHIN  1.186547e+09"
      ]
     },
     "execution_count": 19,
     "metadata": {},
     "output_type": "execute_result"
    }
   ],
   "source": [
    "Credit_Card.groupby(['City'])[['Amount_x']].sum().sort_values(by='Amount_x',ascending=False).head(1)"
   ]
  },
  {
   "cell_type": "markdown",
   "metadata": {},
   "source": [
    "### 2h. Which age group is spending more money?"
   ]
  },
  {
   "cell_type": "code",
   "execution_count": 20,
   "metadata": {},
   "outputs": [],
   "source": [
    "from numpy import where as IF\n",
    "Credit_Card['Age_Group'] = IF((Credit_Card.Age>13) & (Credit_Card.Age<=19),\"Teenager\",\n",
    "   IF((Credit_Card.Age>=20) & (Credit_Card.Age<=40),\"Young\",\n",
    "      IF((Credit_Card.Age>=41) & (Credit_Card.Age<=65),\"Middle\",\n",
    "         IF((Credit_Card.Age>=66) & (Credit_Card.Age<=80),\"Senior\",\"Old\"))))"
   ]
  },
  {
   "cell_type": "code",
   "execution_count": 21,
   "metadata": {},
   "outputs": [
    {
     "data": {
      "text/html": [
       "<div>\n",
       "<style scoped>\n",
       "    .dataframe tbody tr th:only-of-type {\n",
       "        vertical-align: middle;\n",
       "    }\n",
       "\n",
       "    .dataframe tbody tr th {\n",
       "        vertical-align: top;\n",
       "    }\n",
       "\n",
       "    .dataframe thead th {\n",
       "        text-align: right;\n",
       "    }\n",
       "</style>\n",
       "<table border=\"1\" class=\"dataframe\">\n",
       "  <thead>\n",
       "    <tr style=\"text-align: right;\">\n",
       "      <th></th>\n",
       "      <th>Amount_x</th>\n",
       "    </tr>\n",
       "    <tr>\n",
       "      <th>Age_Group</th>\n",
       "      <th></th>\n",
       "    </tr>\n",
       "  </thead>\n",
       "  <tbody>\n",
       "    <tr>\n",
       "      <th>Young</th>\n",
       "      <td>3.586205e+09</td>\n",
       "    </tr>\n",
       "    <tr>\n",
       "      <th>Middle</th>\n",
       "      <td>1.349335e+09</td>\n",
       "    </tr>\n",
       "    <tr>\n",
       "      <th>Senior</th>\n",
       "      <td>5.996974e+08</td>\n",
       "    </tr>\n",
       "    <tr>\n",
       "      <th>Teenager</th>\n",
       "      <td>1.823957e+07</td>\n",
       "    </tr>\n",
       "  </tbody>\n",
       "</table>\n",
       "</div>"
      ],
      "text/plain": [
       "               Amount_x\n",
       "Age_Group              \n",
       "Young      3.586205e+09\n",
       "Middle     1.349335e+09\n",
       "Senior     5.996974e+08\n",
       "Teenager   1.823957e+07"
      ]
     },
     "execution_count": 21,
     "metadata": {},
     "output_type": "execute_result"
    }
   ],
   "source": [
    "Credit_Card.groupby(['Age_Group'])[['Amount_x']].sum().sort_values(by='Amount_x',ascending=False)"
   ]
  },
  {
   "cell_type": "code",
   "execution_count": 22,
   "metadata": {},
   "outputs": [
    {
     "data": {
      "text/html": [
       "<div>\n",
       "<style scoped>\n",
       "    .dataframe tbody tr th:only-of-type {\n",
       "        vertical-align: middle;\n",
       "    }\n",
       "\n",
       "    .dataframe tbody tr th {\n",
       "        vertical-align: top;\n",
       "    }\n",
       "\n",
       "    .dataframe thead th {\n",
       "        text-align: right;\n",
       "    }\n",
       "</style>\n",
       "<table border=\"1\" class=\"dataframe\">\n",
       "  <thead>\n",
       "    <tr style=\"text-align: right;\">\n",
       "      <th></th>\n",
       "      <th>Amount_x</th>\n",
       "    </tr>\n",
       "    <tr>\n",
       "      <th>Age</th>\n",
       "      <th></th>\n",
       "    </tr>\n",
       "  </thead>\n",
       "  <tbody>\n",
       "    <tr>\n",
       "      <th>34.66664</th>\n",
       "      <td>2.142350e+09</td>\n",
       "    </tr>\n",
       "    <tr>\n",
       "      <th>46.00000</th>\n",
       "      <td>3.154374e+08</td>\n",
       "    </tr>\n",
       "    <tr>\n",
       "      <th>69.00000</th>\n",
       "      <td>2.990035e+08</td>\n",
       "    </tr>\n",
       "    <tr>\n",
       "      <th>59.00000</th>\n",
       "      <td>2.693265e+08</td>\n",
       "    </tr>\n",
       "    <tr>\n",
       "      <th>52.00000</th>\n",
       "      <td>2.653723e+08</td>\n",
       "    </tr>\n",
       "    <tr>\n",
       "      <th>56.00000</th>\n",
       "      <td>2.562001e+08</td>\n",
       "    </tr>\n",
       "    <tr>\n",
       "      <th>28.00000</th>\n",
       "      <td>2.153547e+08</td>\n",
       "    </tr>\n",
       "    <tr>\n",
       "      <th>31.00000</th>\n",
       "      <td>2.105190e+08</td>\n",
       "    </tr>\n",
       "    <tr>\n",
       "      <th>38.00000</th>\n",
       "      <td>2.056526e+08</td>\n",
       "    </tr>\n",
       "    <tr>\n",
       "      <th>42.00000</th>\n",
       "      <td>2.020945e+08</td>\n",
       "    </tr>\n",
       "    <tr>\n",
       "      <th>78.00000</th>\n",
       "      <td>1.912860e+08</td>\n",
       "    </tr>\n",
       "    <tr>\n",
       "      <th>30.00000</th>\n",
       "      <td>1.869250e+08</td>\n",
       "    </tr>\n",
       "    <tr>\n",
       "      <th>20.00000</th>\n",
       "      <td>1.858612e+08</td>\n",
       "    </tr>\n",
       "    <tr>\n",
       "      <th>40.00000</th>\n",
       "      <td>1.556353e+08</td>\n",
       "    </tr>\n",
       "    <tr>\n",
       "      <th>33.00000</th>\n",
       "      <td>1.064628e+08</td>\n",
       "    </tr>\n",
       "    <tr>\n",
       "      <th>34.00000</th>\n",
       "      <td>9.774476e+07</td>\n",
       "    </tr>\n",
       "    <tr>\n",
       "      <th>67.00000</th>\n",
       "      <td>7.544620e+07</td>\n",
       "    </tr>\n",
       "    <tr>\n",
       "      <th>35.00000</th>\n",
       "      <td>7.531320e+07</td>\n",
       "    </tr>\n",
       "    <tr>\n",
       "      <th>18.00000</th>\n",
       "      <td>1.823957e+07</td>\n",
       "    </tr>\n",
       "    <tr>\n",
       "      <th>51.00000</th>\n",
       "      <td>1.695886e+07</td>\n",
       "    </tr>\n",
       "    <tr>\n",
       "      <th>72.00000</th>\n",
       "      <td>1.173569e+07</td>\n",
       "    </tr>\n",
       "    <tr>\n",
       "      <th>44.00000</th>\n",
       "      <td>8.317111e+06</td>\n",
       "    </tr>\n",
       "    <tr>\n",
       "      <th>70.00000</th>\n",
       "      <td>8.012993e+06</td>\n",
       "    </tr>\n",
       "    <tr>\n",
       "      <th>68.00000</th>\n",
       "      <td>7.823117e+06</td>\n",
       "    </tr>\n",
       "    <tr>\n",
       "      <th>47.00000</th>\n",
       "      <td>6.570454e+06</td>\n",
       "    </tr>\n",
       "    <tr>\n",
       "      <th>74.00000</th>\n",
       "      <td>4.617578e+06</td>\n",
       "    </tr>\n",
       "    <tr>\n",
       "      <th>65.00000</th>\n",
       "      <td>4.176616e+06</td>\n",
       "    </tr>\n",
       "    <tr>\n",
       "      <th>36.00000</th>\n",
       "      <td>3.971727e+06</td>\n",
       "    </tr>\n",
       "    <tr>\n",
       "      <th>50.00000</th>\n",
       "      <td>3.038904e+06</td>\n",
       "    </tr>\n",
       "    <tr>\n",
       "      <th>76.00000</th>\n",
       "      <td>1.192006e+06</td>\n",
       "    </tr>\n",
       "    <tr>\n",
       "      <th>58.00000</th>\n",
       "      <td>9.073859e+05</td>\n",
       "    </tr>\n",
       "    <tr>\n",
       "      <th>60.00000</th>\n",
       "      <td>4.329851e+05</td>\n",
       "    </tr>\n",
       "    <tr>\n",
       "      <th>26.00000</th>\n",
       "      <td>4.152799e+05</td>\n",
       "    </tr>\n",
       "    <tr>\n",
       "      <th>66.00000</th>\n",
       "      <td>3.166698e+05</td>\n",
       "    </tr>\n",
       "    <tr>\n",
       "      <th>61.00000</th>\n",
       "      <td>2.609452e+05</td>\n",
       "    </tr>\n",
       "    <tr>\n",
       "      <th>79.00000</th>\n",
       "      <td>1.692715e+05</td>\n",
       "    </tr>\n",
       "    <tr>\n",
       "      <th>64.00000</th>\n",
       "      <td>1.505433e+05</td>\n",
       "    </tr>\n",
       "    <tr>\n",
       "      <th>71.00000</th>\n",
       "      <td>9.436918e+04</td>\n",
       "    </tr>\n",
       "    <tr>\n",
       "      <th>49.00000</th>\n",
       "      <td>9.075562e+04</td>\n",
       "    </tr>\n",
       "    <tr>\n",
       "      <th>53.00000</th>\n",
       "      <td>0.000000e+00</td>\n",
       "    </tr>\n",
       "    <tr>\n",
       "      <th>39.00000</th>\n",
       "      <td>0.000000e+00</td>\n",
       "    </tr>\n",
       "    <tr>\n",
       "      <th>32.00000</th>\n",
       "      <td>0.000000e+00</td>\n",
       "    </tr>\n",
       "    <tr>\n",
       "      <th>27.00000</th>\n",
       "      <td>0.000000e+00</td>\n",
       "    </tr>\n",
       "    <tr>\n",
       "      <th>23.00000</th>\n",
       "      <td>0.000000e+00</td>\n",
       "    </tr>\n",
       "    <tr>\n",
       "      <th>22.00000</th>\n",
       "      <td>0.000000e+00</td>\n",
       "    </tr>\n",
       "    <tr>\n",
       "      <th>77.00000</th>\n",
       "      <td>0.000000e+00</td>\n",
       "    </tr>\n",
       "    <tr>\n",
       "      <th>21.00000</th>\n",
       "      <td>0.000000e+00</td>\n",
       "    </tr>\n",
       "  </tbody>\n",
       "</table>\n",
       "</div>"
      ],
      "text/plain": [
       "              Amount_x\n",
       "Age                   \n",
       "34.66664  2.142350e+09\n",
       "46.00000  3.154374e+08\n",
       "69.00000  2.990035e+08\n",
       "59.00000  2.693265e+08\n",
       "52.00000  2.653723e+08\n",
       "56.00000  2.562001e+08\n",
       "28.00000  2.153547e+08\n",
       "31.00000  2.105190e+08\n",
       "38.00000  2.056526e+08\n",
       "42.00000  2.020945e+08\n",
       "78.00000  1.912860e+08\n",
       "30.00000  1.869250e+08\n",
       "20.00000  1.858612e+08\n",
       "40.00000  1.556353e+08\n",
       "33.00000  1.064628e+08\n",
       "34.00000  9.774476e+07\n",
       "67.00000  7.544620e+07\n",
       "35.00000  7.531320e+07\n",
       "18.00000  1.823957e+07\n",
       "51.00000  1.695886e+07\n",
       "72.00000  1.173569e+07\n",
       "44.00000  8.317111e+06\n",
       "70.00000  8.012993e+06\n",
       "68.00000  7.823117e+06\n",
       "47.00000  6.570454e+06\n",
       "74.00000  4.617578e+06\n",
       "65.00000  4.176616e+06\n",
       "36.00000  3.971727e+06\n",
       "50.00000  3.038904e+06\n",
       "76.00000  1.192006e+06\n",
       "58.00000  9.073859e+05\n",
       "60.00000  4.329851e+05\n",
       "26.00000  4.152799e+05\n",
       "66.00000  3.166698e+05\n",
       "61.00000  2.609452e+05\n",
       "79.00000  1.692715e+05\n",
       "64.00000  1.505433e+05\n",
       "71.00000  9.436918e+04\n",
       "49.00000  9.075562e+04\n",
       "53.00000  0.000000e+00\n",
       "39.00000  0.000000e+00\n",
       "32.00000  0.000000e+00\n",
       "27.00000  0.000000e+00\n",
       "23.00000  0.000000e+00\n",
       "22.00000  0.000000e+00\n",
       "77.00000  0.000000e+00\n",
       "21.00000  0.000000e+00"
      ]
     },
     "execution_count": 22,
     "metadata": {},
     "output_type": "execute_result"
    }
   ],
   "source": [
    "### for all age\n",
    "Credit_Card.groupby(['Age'])[['Amount_x']].sum().sort_values(by='Amount_x',ascending=False)"
   ]
  },
  {
   "cell_type": "markdown",
   "metadata": {},
   "source": [
    "### 2i. Who are the top 10 customers in terms of repayment?"
   ]
  },
  {
   "cell_type": "code",
   "execution_count": 23,
   "metadata": {},
   "outputs": [
    {
     "data": {
      "text/html": [
       "<div>\n",
       "<style scoped>\n",
       "    .dataframe tbody tr th:only-of-type {\n",
       "        vertical-align: middle;\n",
       "    }\n",
       "\n",
       "    .dataframe tbody tr th {\n",
       "        vertical-align: top;\n",
       "    }\n",
       "\n",
       "    .dataframe thead th {\n",
       "        text-align: right;\n",
       "    }\n",
       "</style>\n",
       "<table border=\"1\" class=\"dataframe\">\n",
       "  <thead>\n",
       "    <tr style=\"text-align: right;\">\n",
       "      <th></th>\n",
       "      <th>Amount_y</th>\n",
       "    </tr>\n",
       "    <tr>\n",
       "      <th>Customer</th>\n",
       "      <th></th>\n",
       "    </tr>\n",
       "  </thead>\n",
       "  <tbody>\n",
       "    <tr>\n",
       "      <th>A97</th>\n",
       "      <td>10000.000000</td>\n",
       "    </tr>\n",
       "    <tr>\n",
       "      <th>A98</th>\n",
       "      <td>10001.000000</td>\n",
       "    </tr>\n",
       "    <tr>\n",
       "      <th>A99</th>\n",
       "      <td>10002.000000</td>\n",
       "    </tr>\n",
       "    <tr>\n",
       "      <th>A83</th>\n",
       "      <td>10002.000000</td>\n",
       "    </tr>\n",
       "    <tr>\n",
       "      <th>A85</th>\n",
       "      <td>23879.870661</td>\n",
       "    </tr>\n",
       "    <tr>\n",
       "      <th>A78</th>\n",
       "      <td>37529.729890</td>\n",
       "    </tr>\n",
       "    <tr>\n",
       "      <th>A69</th>\n",
       "      <td>40000.000000</td>\n",
       "    </tr>\n",
       "    <tr>\n",
       "      <th>A70</th>\n",
       "      <td>40004.000000</td>\n",
       "    </tr>\n",
       "    <tr>\n",
       "      <th>A71</th>\n",
       "      <td>40008.000000</td>\n",
       "    </tr>\n",
       "    <tr>\n",
       "      <th>A86</th>\n",
       "      <td>70297.577868</td>\n",
       "    </tr>\n",
       "  </tbody>\n",
       "</table>\n",
       "</div>"
      ],
      "text/plain": [
       "              Amount_y\n",
       "Customer              \n",
       "A97       10000.000000\n",
       "A98       10001.000000\n",
       "A99       10002.000000\n",
       "A83       10002.000000\n",
       "A85       23879.870661\n",
       "A78       37529.729890\n",
       "A69       40000.000000\n",
       "A70       40004.000000\n",
       "A71       40008.000000\n",
       "A86       70297.577868"
      ]
     },
     "execution_count": 23,
     "metadata": {},
     "output_type": "execute_result"
    }
   ],
   "source": [
    "Credit_Card.groupby(['Customer'])[['Amount_y']].sum().sort_values(by='Amount_y').head(10)"
   ]
  },
  {
   "cell_type": "markdown",
   "metadata": {},
   "source": [
    "### 3. Calculate the city wise spend on each product on yearly basis. Also include a graphical\n",
    "### representation for the same."
   ]
  },
  {
   "cell_type": "code",
   "execution_count": 24,
   "metadata": {},
   "outputs": [],
   "source": [
    "from datetime import datetime"
   ]
  },
  {
   "cell_type": "code",
   "execution_count": 25,
   "metadata": {},
   "outputs": [],
   "source": [
    "Credit_Card['Month_x_year']=pd.to_datetime(Credit_Card.Month_x,format='%Y').apply(lambda x: x.strftime('%Y')).astype('int64')"
   ]
  },
  {
   "cell_type": "code",
   "execution_count": 26,
   "metadata": {},
   "outputs": [
    {
     "data": {
      "text/html": [
       "<div>\n",
       "<style scoped>\n",
       "    .dataframe tbody tr th:only-of-type {\n",
       "        vertical-align: middle;\n",
       "    }\n",
       "\n",
       "    .dataframe tbody tr th {\n",
       "        vertical-align: top;\n",
       "    }\n",
       "\n",
       "    .dataframe thead th {\n",
       "        text-align: right;\n",
       "    }\n",
       "</style>\n",
       "<table border=\"1\" class=\"dataframe\">\n",
       "  <thead>\n",
       "    <tr style=\"text-align: right;\">\n",
       "      <th></th>\n",
       "      <th></th>\n",
       "      <th></th>\n",
       "      <th>Amount_x</th>\n",
       "    </tr>\n",
       "    <tr>\n",
       "      <th>City</th>\n",
       "      <th>Product</th>\n",
       "      <th>Month_x_year</th>\n",
       "      <th></th>\n",
       "    </tr>\n",
       "  </thead>\n",
       "  <tbody>\n",
       "    <tr>\n",
       "      <th rowspan=\"5\" valign=\"top\">BANGALORE</th>\n",
       "      <th rowspan=\"3\" valign=\"top\">Gold</th>\n",
       "      <th>2004</th>\n",
       "      <td>2.670055e+08</td>\n",
       "    </tr>\n",
       "    <tr>\n",
       "      <th>2005</th>\n",
       "      <td>4.174030e+08</td>\n",
       "    </tr>\n",
       "    <tr>\n",
       "      <th>2006</th>\n",
       "      <td>3.500129e+08</td>\n",
       "    </tr>\n",
       "    <tr>\n",
       "      <th rowspan=\"2\" valign=\"top\">Platimum</th>\n",
       "      <th>2004</th>\n",
       "      <td>1.710295e+06</td>\n",
       "    </tr>\n",
       "    <tr>\n",
       "      <th>2005</th>\n",
       "      <td>5.032496e+06</td>\n",
       "    </tr>\n",
       "    <tr>\n",
       "      <th>...</th>\n",
       "      <th>...</th>\n",
       "      <th>...</th>\n",
       "      <td>...</td>\n",
       "    </tr>\n",
       "    <tr>\n",
       "      <th rowspan=\"5\" valign=\"top\">TRIVANDRUM</th>\n",
       "      <th rowspan=\"2\" valign=\"top\">Platimum</th>\n",
       "      <th>2005</th>\n",
       "      <td>1.032663e+08</td>\n",
       "    </tr>\n",
       "    <tr>\n",
       "      <th>2006</th>\n",
       "      <td>6.409920e+07</td>\n",
       "    </tr>\n",
       "    <tr>\n",
       "      <th rowspan=\"3\" valign=\"top\">Silver</th>\n",
       "      <th>2004</th>\n",
       "      <td>1.309035e+06</td>\n",
       "    </tr>\n",
       "    <tr>\n",
       "      <th>2005</th>\n",
       "      <td>4.229643e+06</td>\n",
       "    </tr>\n",
       "    <tr>\n",
       "      <th>2006</th>\n",
       "      <td>1.587606e+06</td>\n",
       "    </tr>\n",
       "  </tbody>\n",
       "</table>\n",
       "<p>72 rows × 1 columns</p>\n",
       "</div>"
      ],
      "text/plain": [
       "                                      Amount_x\n",
       "City       Product  Month_x_year              \n",
       "BANGALORE  Gold     2004          2.670055e+08\n",
       "                    2005          4.174030e+08\n",
       "                    2006          3.500129e+08\n",
       "           Platimum 2004          1.710295e+06\n",
       "                    2005          5.032496e+06\n",
       "...                                        ...\n",
       "TRIVANDRUM Platimum 2005          1.032663e+08\n",
       "                    2006          6.409920e+07\n",
       "           Silver   2004          1.309035e+06\n",
       "                    2005          4.229643e+06\n",
       "                    2006          1.587606e+06\n",
       "\n",
       "[72 rows x 1 columns]"
      ]
     },
     "execution_count": 26,
     "metadata": {},
     "output_type": "execute_result"
    }
   ],
   "source": [
    "Credit_Card.groupby(['City','Product','Month_x_year'])[['Amount_x']].sum()"
   ]
  },
  {
   "cell_type": "code",
   "execution_count": 27,
   "metadata": {},
   "outputs": [],
   "source": [
    "Grap = Credit_Card.groupby(['City','Product','Month_x_year'])[['Amount_x']].sum().reset_index()"
   ]
  },
  {
   "cell_type": "code",
   "execution_count": 28,
   "metadata": {},
   "outputs": [
    {
     "data": {
      "text/plain": [
       "<AxesSubplot:xlabel='Month_x_year'>"
      ]
     },
     "execution_count": 28,
     "metadata": {},
     "output_type": "execute_result"
    },
    {
     "data": {
      "image/png": "[encoded data removed]",
      "text/plain": [
       "<Figure size 1440x720 with 1 Axes>"
      ]
     },
     "metadata": {},
     "output_type": "display_data"
    }
   ],
   "source": [
    "Grap.pivot_table(index='Month_x_year', columns=['City','Product'], values='Amount_x').plot(kind='bar',figsize=(20,10))"
   ]
  },
  {
   "cell_type": "markdown",
   "metadata": {},
   "source": [
    "### 4. Create graphs for\n",
    "### a. Monthly comparison of total spends, city wise\n"
   ]
  },
  {
   "cell_type": "code",
   "execution_count": 29,
   "metadata": {},
   "outputs": [],
   "source": [
    "Credit_Card['Month']=pd.to_datetime(Credit_Card.Month_x,format='%m').apply(lambda x:x.strftime('%m')).astype('int64')"
   ]
  },
  {
   "cell_type": "code",
   "execution_count": 30,
   "metadata": {},
   "outputs": [
    {
     "data": {
      "text/plain": [
       "0        1\n",
       "1        1\n",
       "2        1\n",
       "3        1\n",
       "4        1\n",
       "        ..\n",
       "37279    1\n",
       "37280    1\n",
       "37281    1\n",
       "37282    1\n",
       "37283    1\n",
       "Name: Month, Length: 37284, dtype: int64"
      ]
     },
     "execution_count": 30,
     "metadata": {},
     "output_type": "execute_result"
    }
   ],
   "source": [
    "Credit_Card['Month']"
   ]
  },
  {
   "cell_type": "code",
   "execution_count": 31,
   "metadata": {},
   "outputs": [
    {
     "data": {
      "text/plain": [
       "<AxesSubplot:xlabel='City'>"
      ]
     },
     "execution_count": 31,
     "metadata": {},
     "output_type": "execute_result"
    },
    {
     "data": {
      "image/png": "[encoded data removed]",
      "text/plain": [
       "<Figure size 1440x720 with 1 Axes>"
      ]
     },
     "metadata": {},
     "output_type": "display_data"
    }
   ],
   "source": [
    "Month_graph=Credit_Card.groupby(['Month','City'])[['Amount_x']].sum()\n",
    "Month_graph.pivot_table(index='City',columns='Month',values='Amount_x').plot(kind='bar',figsize=(20,10))"
   ]
  },
  {
   "cell_type": "markdown",
   "metadata": {},
   "source": [
    "### b. Comparison of yearly spend on air tickets\n"
   ]
  },
  {
   "cell_type": "code",
   "execution_count": 32,
   "metadata": {},
   "outputs": [],
   "source": [
    "Credit_Card['air_tickets']=Credit_Card.Type[Credit_Card.Type=='AIR TICKET']"
   ]
  },
  {
   "cell_type": "code",
   "execution_count": 33,
   "metadata": {},
   "outputs": [],
   "source": [
    "Airticket=Credit_Card['air_tickets'].dropna()"
   ]
  },
  {
   "cell_type": "code",
   "execution_count": 34,
   "metadata": {},
   "outputs": [
    {
     "data": {
      "image/png": "[encoded data removed]",
      "text/plain": [
       "<Figure size 432x288 with 1 Axes>"
      ]
     },
     "metadata": {},
     "output_type": "display_data"
    }
   ],
   "source": [
    "Credit_Card.groupby(['air_tickets','Month_x_year'])[['Amount_x']].sum().add_prefix('spend_').plot(kind='bar')\n",
    "plt.ylabel('spend_amount')\n",
    "plt.title('yearly spend on air tickets')\n",
    "plt.show()"
   ]
  },
  {
   "cell_type": "markdown",
   "metadata": {},
   "source": [
    "### c. Comparison of monthly spend for each product (look for any seasonality\n",
    "### that exists in terms of spend)"
   ]
  },
  {
   "cell_type": "code",
   "execution_count": 35,
   "metadata": {},
   "outputs": [],
   "source": [
    "Monthly_spend=Credit_Card.groupby(['Month','Product'])[['Amount_x']].sum()"
   ]
  },
  {
   "cell_type": "code",
   "execution_count": 36,
   "metadata": {},
   "outputs": [
    {
     "data": {
      "text/plain": [
       "<AxesSubplot:xlabel='Month'>"
      ]
     },
     "execution_count": 36,
     "metadata": {},
     "output_type": "execute_result"
    },
    {
     "data": {
      "image/png": "[encoded data removed]",
      "text/plain": [
       "<Figure size 1440x720 with 1 Axes>"
      ]
     },
     "metadata": {},
     "output_type": "display_data"
    }
   ],
   "source": [
    "Monthly_spend.pivot_table(index='Month',columns='Product',values='Amount_x').plot(kind='bar',stacked=True,figsize=(20,10))"
   ]
  },
  {
   "cell_type": "markdown",
   "metadata": {},
   "source": [
    "### 5. Write user defined PYTHON function to perform the following analysis:\n",
    "### You need to find top 10 customers for each city in terms of their repayment amount by\n",
    "### different products and by different time periods i.e. year or month. The user should be able\n",
    "### to specify the product (Gold/Silver/Platinum) and time period (yearly or monthly) and the\n",
    "### function should automatically take these inputs while identifying the top 10 customers."
   ]
  },
  {
   "cell_type": "code",
   "execution_count": 37,
   "metadata": {},
   "outputs": [],
   "source": [
    "Credit_Card['Month_y_year']=pd.to_datetime(Credit_Card.Month_y,format='%Y').apply(lambda x: x.strftime('%Y'))    "
   ]
  },
  {
   "cell_type": "code",
   "execution_count": 38,
   "metadata": {},
   "outputs": [
    {
     "data": {
      "text/html": [
       "<div>\n",
       "<style scoped>\n",
       "    .dataframe tbody tr th:only-of-type {\n",
       "        vertical-align: middle;\n",
       "    }\n",
       "\n",
       "    .dataframe tbody tr th {\n",
       "        vertical-align: top;\n",
       "    }\n",
       "\n",
       "    .dataframe thead th {\n",
       "        text-align: right;\n",
       "    }\n",
       "</style>\n",
       "<table border=\"1\" class=\"dataframe\">\n",
       "  <thead>\n",
       "    <tr style=\"text-align: right;\">\n",
       "      <th></th>\n",
       "      <th>No</th>\n",
       "      <th>Customer</th>\n",
       "      <th>Age</th>\n",
       "      <th>City</th>\n",
       "      <th>Product</th>\n",
       "      <th>Limit</th>\n",
       "      <th>Company</th>\n",
       "      <th>Segment</th>\n",
       "      <th>Sl No:</th>\n",
       "      <th>Month_x</th>\n",
       "      <th>...</th>\n",
       "      <th>Month_y</th>\n",
       "      <th>Amount_y</th>\n",
       "      <th>Month_x_Month</th>\n",
       "      <th>Profit</th>\n",
       "      <th>pos_profit</th>\n",
       "      <th>Age_Group</th>\n",
       "      <th>Month_x_year</th>\n",
       "      <th>Month</th>\n",
       "      <th>air_tickets</th>\n",
       "      <th>Month_y_year</th>\n",
       "    </tr>\n",
       "  </thead>\n",
       "  <tbody>\n",
       "    <tr>\n",
       "      <th>0</th>\n",
       "      <td>1</td>\n",
       "      <td>A1</td>\n",
       "      <td>34.00000</td>\n",
       "      <td>BANGALORE</td>\n",
       "      <td>Gold</td>\n",
       "      <td>500000</td>\n",
       "      <td>C1</td>\n",
       "      <td>Self Employed</td>\n",
       "      <td>1</td>\n",
       "      <td>2004-01-12</td>\n",
       "      <td>...</td>\n",
       "      <td>2004-01-12</td>\n",
       "      <td>338932.141919</td>\n",
       "      <td>1</td>\n",
       "      <td>-5122.838893</td>\n",
       "      <td>0.000000</td>\n",
       "      <td>Young</td>\n",
       "      <td>2004</td>\n",
       "      <td>1</td>\n",
       "      <td>NaN</td>\n",
       "      <td>2004</td>\n",
       "    </tr>\n",
       "    <tr>\n",
       "      <th>1</th>\n",
       "      <td>1</td>\n",
       "      <td>A1</td>\n",
       "      <td>34.00000</td>\n",
       "      <td>BANGALORE</td>\n",
       "      <td>Gold</td>\n",
       "      <td>500000</td>\n",
       "      <td>C1</td>\n",
       "      <td>Self Employed</td>\n",
       "      <td>1</td>\n",
       "      <td>2004-01-12</td>\n",
       "      <td>...</td>\n",
       "      <td>2004-01-03</td>\n",
       "      <td>131778.688758</td>\n",
       "      <td>1</td>\n",
       "      <td>-212276.292055</td>\n",
       "      <td>0.000000</td>\n",
       "      <td>Young</td>\n",
       "      <td>2004</td>\n",
       "      <td>1</td>\n",
       "      <td>NaN</td>\n",
       "      <td>2004</td>\n",
       "    </tr>\n",
       "    <tr>\n",
       "      <th>2</th>\n",
       "      <td>1</td>\n",
       "      <td>A1</td>\n",
       "      <td>34.00000</td>\n",
       "      <td>BANGALORE</td>\n",
       "      <td>Gold</td>\n",
       "      <td>500000</td>\n",
       "      <td>C1</td>\n",
       "      <td>Self Employed</td>\n",
       "      <td>1</td>\n",
       "      <td>2004-01-12</td>\n",
       "      <td>...</td>\n",
       "      <td>2004-01-15</td>\n",
       "      <td>485981.516736</td>\n",
       "      <td>1</td>\n",
       "      <td>141926.535923</td>\n",
       "      <td>4115.869542</td>\n",
       "      <td>Young</td>\n",
       "      <td>2004</td>\n",
       "      <td>1</td>\n",
       "      <td>NaN</td>\n",
       "      <td>2004</td>\n",
       "    </tr>\n",
       "    <tr>\n",
       "      <th>3</th>\n",
       "      <td>1</td>\n",
       "      <td>A1</td>\n",
       "      <td>34.00000</td>\n",
       "      <td>BANGALORE</td>\n",
       "      <td>Gold</td>\n",
       "      <td>500000</td>\n",
       "      <td>C1</td>\n",
       "      <td>Self Employed</td>\n",
       "      <td>1</td>\n",
       "      <td>2004-01-12</td>\n",
       "      <td>...</td>\n",
       "      <td>2004-01-25</td>\n",
       "      <td>452865.826385</td>\n",
       "      <td>1</td>\n",
       "      <td>108810.845572</td>\n",
       "      <td>3155.514522</td>\n",
       "      <td>Young</td>\n",
       "      <td>2004</td>\n",
       "      <td>1</td>\n",
       "      <td>NaN</td>\n",
       "      <td>2004</td>\n",
       "    </tr>\n",
       "    <tr>\n",
       "      <th>4</th>\n",
       "      <td>1</td>\n",
       "      <td>A1</td>\n",
       "      <td>34.00000</td>\n",
       "      <td>BANGALORE</td>\n",
       "      <td>Gold</td>\n",
       "      <td>500000</td>\n",
       "      <td>C1</td>\n",
       "      <td>Self Employed</td>\n",
       "      <td>1</td>\n",
       "      <td>2004-01-12</td>\n",
       "      <td>...</td>\n",
       "      <td>2005-01-17</td>\n",
       "      <td>154684.838196</td>\n",
       "      <td>1</td>\n",
       "      <td>-189370.142617</td>\n",
       "      <td>0.000000</td>\n",
       "      <td>Young</td>\n",
       "      <td>2004</td>\n",
       "      <td>1</td>\n",
       "      <td>NaN</td>\n",
       "      <td>2005</td>\n",
       "    </tr>\n",
       "    <tr>\n",
       "      <th>...</th>\n",
       "      <td>...</td>\n",
       "      <td>...</td>\n",
       "      <td>...</td>\n",
       "      <td>...</td>\n",
       "      <td>...</td>\n",
       "      <td>...</td>\n",
       "      <td>...</td>\n",
       "      <td>...</td>\n",
       "      <td>...</td>\n",
       "      <td>...</td>\n",
       "      <td>...</td>\n",
       "      <td>...</td>\n",
       "      <td>...</td>\n",
       "      <td>...</td>\n",
       "      <td>...</td>\n",
       "      <td>...</td>\n",
       "      <td>...</td>\n",
       "      <td>...</td>\n",
       "      <td>...</td>\n",
       "      <td>...</td>\n",
       "      <td>...</td>\n",
       "    </tr>\n",
       "    <tr>\n",
       "      <th>37279</th>\n",
       "      <td>96</td>\n",
       "      <td>A96</td>\n",
       "      <td>71.00000</td>\n",
       "      <td>CHENNAI</td>\n",
       "      <td>Silver</td>\n",
       "      <td>100000</td>\n",
       "      <td>C19</td>\n",
       "      <td>Salaried_Pvt</td>\n",
       "      <td>98</td>\n",
       "      <td>2004-01-25</td>\n",
       "      <td>...</td>\n",
       "      <td>2004-01-25</td>\n",
       "      <td>100000.000000</td>\n",
       "      <td>1</td>\n",
       "      <td>5630.821198</td>\n",
       "      <td>163.293815</td>\n",
       "      <td>Senior</td>\n",
       "      <td>2004</td>\n",
       "      <td>1</td>\n",
       "      <td>NaN</td>\n",
       "      <td>2004</td>\n",
       "    </tr>\n",
       "    <tr>\n",
       "      <th>37280</th>\n",
       "      <td>97</td>\n",
       "      <td>A97</td>\n",
       "      <td>70.00000</td>\n",
       "      <td>TRIVANDRUM</td>\n",
       "      <td>Platimum</td>\n",
       "      <td>10000</td>\n",
       "      <td>C20</td>\n",
       "      <td>Govt</td>\n",
       "      <td>99</td>\n",
       "      <td>2004-01-12</td>\n",
       "      <td>...</td>\n",
       "      <td>2004-01-12</td>\n",
       "      <td>10000.000000</td>\n",
       "      <td>1</td>\n",
       "      <td>NaN</td>\n",
       "      <td>NaN</td>\n",
       "      <td>Senior</td>\n",
       "      <td>2004</td>\n",
       "      <td>1</td>\n",
       "      <td>NaN</td>\n",
       "      <td>2004</td>\n",
       "    </tr>\n",
       "    <tr>\n",
       "      <th>37281</th>\n",
       "      <td>98</td>\n",
       "      <td>A98</td>\n",
       "      <td>21.00000</td>\n",
       "      <td>CALCUTTA</td>\n",
       "      <td>Platimum</td>\n",
       "      <td>10001</td>\n",
       "      <td>C21</td>\n",
       "      <td>Normal Salary</td>\n",
       "      <td>100</td>\n",
       "      <td>2004-01-03</td>\n",
       "      <td>...</td>\n",
       "      <td>2004-01-03</td>\n",
       "      <td>10001.000000</td>\n",
       "      <td>1</td>\n",
       "      <td>NaN</td>\n",
       "      <td>NaN</td>\n",
       "      <td>Young</td>\n",
       "      <td>2004</td>\n",
       "      <td>1</td>\n",
       "      <td>NaN</td>\n",
       "      <td>2004</td>\n",
       "    </tr>\n",
       "    <tr>\n",
       "      <th>37282</th>\n",
       "      <td>99</td>\n",
       "      <td>A99</td>\n",
       "      <td>52.00000</td>\n",
       "      <td>CALCUTTA</td>\n",
       "      <td>Platimum</td>\n",
       "      <td>10002</td>\n",
       "      <td>C22</td>\n",
       "      <td>Self Employed</td>\n",
       "      <td>101</td>\n",
       "      <td>2004-01-15</td>\n",
       "      <td>...</td>\n",
       "      <td>2004-01-15</td>\n",
       "      <td>10002.000000</td>\n",
       "      <td>1</td>\n",
       "      <td>NaN</td>\n",
       "      <td>NaN</td>\n",
       "      <td>Middle</td>\n",
       "      <td>2004</td>\n",
       "      <td>1</td>\n",
       "      <td>AIR TICKET</td>\n",
       "      <td>2004</td>\n",
       "    </tr>\n",
       "    <tr>\n",
       "      <th>37283</th>\n",
       "      <td>100</td>\n",
       "      <td>A100</td>\n",
       "      <td>34.66664</td>\n",
       "      <td>COCHIN</td>\n",
       "      <td>Silver</td>\n",
       "      <td>100000</td>\n",
       "      <td>C5</td>\n",
       "      <td>Salaried_MNC</td>\n",
       "      <td>102</td>\n",
       "      <td>2004-01-25</td>\n",
       "      <td>...</td>\n",
       "      <td>2004-01-25</td>\n",
       "      <td>100000.000000</td>\n",
       "      <td>1</td>\n",
       "      <td>53748.701769</td>\n",
       "      <td>1558.712351</td>\n",
       "      <td>Young</td>\n",
       "      <td>2004</td>\n",
       "      <td>1</td>\n",
       "      <td>NaN</td>\n",
       "      <td>2004</td>\n",
       "    </tr>\n",
       "  </tbody>\n",
       "</table>\n",
       "<p>37284 rows × 23 columns</p>\n",
       "</div>"
      ],
      "text/plain": [
       "        No Customer       Age        City   Product   Limit Company  \\\n",
       "0        1       A1  34.00000   BANGALORE      Gold  500000      C1   \n",
       "1        1       A1  34.00000   BANGALORE      Gold  500000      C1   \n",
       "2        1       A1  34.00000   BANGALORE      Gold  500000      C1   \n",
       "3        1       A1  34.00000   BANGALORE      Gold  500000      C1   \n",
       "4        1       A1  34.00000   BANGALORE      Gold  500000      C1   \n",
       "...    ...      ...       ...         ...       ...     ...     ...   \n",
       "37279   96      A96  71.00000     CHENNAI    Silver  100000     C19   \n",
       "37280   97      A97  70.00000  TRIVANDRUM  Platimum   10000     C20   \n",
       "37281   98      A98  21.00000    CALCUTTA  Platimum   10001     C21   \n",
       "37282   99      A99  52.00000    CALCUTTA  Platimum   10002     C22   \n",
       "37283  100     A100  34.66664      COCHIN    Silver  100000      C5   \n",
       "\n",
       "             Segment  Sl No:    Month_x  ...    Month_y       Amount_y  \\\n",
       "0      Self Employed       1 2004-01-12  ... 2004-01-12  338932.141919   \n",
       "1      Self Employed       1 2004-01-12  ... 2004-01-03  131778.688758   \n",
       "2      Self Employed       1 2004-01-12  ... 2004-01-15  485981.516736   \n",
       "3      Self Employed       1 2004-01-12  ... 2004-01-25  452865.826385   \n",
       "4      Self Employed       1 2004-01-12  ... 2005-01-17  154684.838196   \n",
       "...              ...     ...        ...  ...        ...            ...   \n",
       "37279   Salaried_Pvt      98 2004-01-25  ... 2004-01-25  100000.000000   \n",
       "37280           Govt      99 2004-01-12  ... 2004-01-12   10000.000000   \n",
       "37281  Normal Salary     100 2004-01-03  ... 2004-01-03   10001.000000   \n",
       "37282  Self Employed     101 2004-01-15  ... 2004-01-15   10002.000000   \n",
       "37283   Salaried_MNC     102 2004-01-25  ... 2004-01-25  100000.000000   \n",
       "\n",
       "       Month_x_Month         Profit   pos_profit  Age_Group  Month_x_year  \\\n",
       "0                  1   -5122.838893     0.000000      Young          2004   \n",
       "1                  1 -212276.292055     0.000000      Young          2004   \n",
       "2                  1  141926.535923  4115.869542      Young          2004   \n",
       "3                  1  108810.845572  3155.514522      Young          2004   \n",
       "4                  1 -189370.142617     0.000000      Young          2004   \n",
       "...              ...            ...          ...        ...           ...   \n",
       "37279              1    5630.821198   163.293815     Senior          2004   \n",
       "37280              1            NaN          NaN     Senior          2004   \n",
       "37281              1            NaN          NaN      Young          2004   \n",
       "37282              1            NaN          NaN     Middle          2004   \n",
       "37283              1   53748.701769  1558.712351      Young          2004   \n",
       "\n",
       "       Month air_tickets  Month_y_year  \n",
       "0          1         NaN          2004  \n",
       "1          1         NaN          2004  \n",
       "2          1         NaN          2004  \n",
       "3          1         NaN          2004  \n",
       "4          1         NaN          2005  \n",
       "...      ...         ...           ...  \n",
       "37279      1         NaN          2004  \n",
       "37280      1         NaN          2004  \n",
       "37281      1         NaN          2004  \n",
       "37282      1  AIR TICKET          2004  \n",
       "37283      1         NaN          2004  \n",
       "\n",
       "[37284 rows x 23 columns]"
      ]
     },
     "execution_count": 38,
     "metadata": {},
     "output_type": "execute_result"
    }
   ],
   "source": [
    "Credit_Card"
   ]
  },
  {
   "cell_type": "code",
   "execution_count": 39,
   "metadata": {},
   "outputs": [],
   "source": [
    "def Top10Customer(x,y):\n",
    "    return Credit_Card.groupby(['Customer','City',Credit_Card.Product[Credit_Card.Product==x],Credit_Card.Month_y_year[Credit_Card.Month_y_year==y]])[['Amount_y']].sum().sort_values(by='Amount_y',ascending=False).reset_index().head(10)"
   ]
  },
  {
   "cell_type": "code",
   "execution_count": 40,
   "metadata": {},
   "outputs": [
    {
     "name": "stdout",
     "output_type": "stream",
     "text": [
      "Product name(Gold/Silver/Platimum):Gold\n",
      "Time period(2004/2005/2006):2006\n"
     ]
    },
    {
     "data": {
      "text/html": [
       "<div>\n",
       "<style scoped>\n",
       "    .dataframe tbody tr th:only-of-type {\n",
       "        vertical-align: middle;\n",
       "    }\n",
       "\n",
       "    .dataframe tbody tr th {\n",
       "        vertical-align: top;\n",
       "    }\n",
       "\n",
       "    .dataframe thead th {\n",
       "        text-align: right;\n",
       "    }\n",
       "</style>\n",
       "<table border=\"1\" class=\"dataframe\">\n",
       "  <thead>\n",
       "    <tr style=\"text-align: right;\">\n",
       "      <th></th>\n",
       "      <th>Customer</th>\n",
       "      <th>City</th>\n",
       "      <th>Product</th>\n",
       "      <th>Month_y_year</th>\n",
       "      <th>Amount_y</th>\n",
       "    </tr>\n",
       "  </thead>\n",
       "  <tbody>\n",
       "    <tr>\n",
       "      <th>0</th>\n",
       "      <td>A61</td>\n",
       "      <td>COCHIN</td>\n",
       "      <td>Gold</td>\n",
       "      <td>2006</td>\n",
       "      <td>1.259300e+08</td>\n",
       "    </tr>\n",
       "    <tr>\n",
       "      <th>1</th>\n",
       "      <td>A30</td>\n",
       "      <td>BANGALORE</td>\n",
       "      <td>Gold</td>\n",
       "      <td>2006</td>\n",
       "      <td>1.120655e+08</td>\n",
       "    </tr>\n",
       "    <tr>\n",
       "      <th>2</th>\n",
       "      <td>A60</td>\n",
       "      <td>CALCUTTA</td>\n",
       "      <td>Gold</td>\n",
       "      <td>2006</td>\n",
       "      <td>1.107882e+08</td>\n",
       "    </tr>\n",
       "    <tr>\n",
       "      <th>3</th>\n",
       "      <td>A14</td>\n",
       "      <td>BANGALORE</td>\n",
       "      <td>Gold</td>\n",
       "      <td>2006</td>\n",
       "      <td>9.958477e+07</td>\n",
       "    </tr>\n",
       "    <tr>\n",
       "      <th>4</th>\n",
       "      <td>A43</td>\n",
       "      <td>BANGALORE</td>\n",
       "      <td>Gold</td>\n",
       "      <td>2006</td>\n",
       "      <td>9.432969e+07</td>\n",
       "    </tr>\n",
       "    <tr>\n",
       "      <th>5</th>\n",
       "      <td>A12</td>\n",
       "      <td>BOMBAY</td>\n",
       "      <td>Gold</td>\n",
       "      <td>2006</td>\n",
       "      <td>9.104474e+07</td>\n",
       "    </tr>\n",
       "    <tr>\n",
       "      <th>6</th>\n",
       "      <td>A28</td>\n",
       "      <td>TRIVANDRUM</td>\n",
       "      <td>Gold</td>\n",
       "      <td>2006</td>\n",
       "      <td>8.717610e+07</td>\n",
       "    </tr>\n",
       "    <tr>\n",
       "      <th>7</th>\n",
       "      <td>A29</td>\n",
       "      <td>CALCUTTA</td>\n",
       "      <td>Gold</td>\n",
       "      <td>2006</td>\n",
       "      <td>8.005926e+07</td>\n",
       "    </tr>\n",
       "    <tr>\n",
       "      <th>8</th>\n",
       "      <td>A44</td>\n",
       "      <td>DELHI</td>\n",
       "      <td>Gold</td>\n",
       "      <td>2006</td>\n",
       "      <td>7.857811e+07</td>\n",
       "    </tr>\n",
       "    <tr>\n",
       "      <th>9</th>\n",
       "      <td>A27</td>\n",
       "      <td>CHENNAI</td>\n",
       "      <td>Gold</td>\n",
       "      <td>2006</td>\n",
       "      <td>7.835803e+07</td>\n",
       "    </tr>\n",
       "  </tbody>\n",
       "</table>\n",
       "</div>"
      ],
      "text/plain": [
       "  Customer        City Product Month_y_year      Amount_y\n",
       "0      A61      COCHIN    Gold         2006  1.259300e+08\n",
       "1      A30   BANGALORE    Gold         2006  1.120655e+08\n",
       "2      A60    CALCUTTA    Gold         2006  1.107882e+08\n",
       "3      A14   BANGALORE    Gold         2006  9.958477e+07\n",
       "4      A43   BANGALORE    Gold         2006  9.432969e+07\n",
       "5      A12      BOMBAY    Gold         2006  9.104474e+07\n",
       "6      A28  TRIVANDRUM    Gold         2006  8.717610e+07\n",
       "7      A29    CALCUTTA    Gold         2006  8.005926e+07\n",
       "8      A44       DELHI    Gold         2006  7.857811e+07\n",
       "9      A27     CHENNAI    Gold         2006  7.835803e+07"
      ]
     },
     "execution_count": 40,
     "metadata": {},
     "output_type": "execute_result"
    }
   ],
   "source": [
    "Top10Customer(input('Product name(Gold/Silver/Platimum):'),input('Time period(2004/2005/2006):'))"
   ]
  },
  {
   "cell_type": "code",
   "execution_count": null,
   "metadata": {},
   "outputs": [],
   "source": []
  }
 ],
 "metadata": {
  "kernelspec": {
   "display_name": "Python 3",
   "language": "python",
   "name": "python3"
  },
  "language_info": {
   "codemirror_mode": {
    "name": "ipython",
    "version": 3
   },
   "file_extension": ".py",
   "mimetype": "text/x-python",
   "name": "python",
   "nbconvert_exporter": "python",
   "pygments_lexer": "ipython3",
   "version": "3.8.5"
  }
 },
 "nbformat": 4,
 "nbformat_minor": 4
}
